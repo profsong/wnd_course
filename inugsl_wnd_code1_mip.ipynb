{
  "nbformat": 4,
  "nbformat_minor": 0,
  "metadata": {
    "colab": {
      "name": "inugsl_wnd_code1_mip",
      "provenance": [],
      "collapsed_sections": [],
      "authorship_tag": "ABX9TyOeAh8kRKIcNpMR2dSyPVNL",
      "include_colab_link": true
    },
    "kernelspec": {
      "name": "python3",
      "display_name": "Python 3"
    }
  },
  "cells": [
    {
      "cell_type": "markdown",
      "metadata": {
        "id": "view-in-github",
        "colab_type": "text"
      },
      "source": [
        "<a href=\"https://colab.research.google.com/github/profsong/wnd_course/blob/main/inugsl_wnd_code1_mip.ipynb\" target=\"_parent\"><img src=\"https://colab.research.google.com/assets/colab-badge.svg\" alt=\"Open In Colab\"/></a>"
      ]
    },
    {
      "cell_type": "markdown",
      "metadata": {
        "id": "Aj5YZ0lTLb97"
      },
      "source": [
        "# TEST 프로그램입니다.\n",
        "어떻게 **테스트**하나요?"
      ]
    },
    {
      "cell_type": "code",
      "metadata": {
        "id": "gD-bYPMNLKN9",
        "outputId": "0bd66f45-cd76-4b10-c538-1fda0529497f",
        "colab": {
          "base_uri": "https://localhost:8080/",
          "height": 85
        }
      },
      "source": [
        "!pip install ortools"
      ],
      "execution_count": null,
      "outputs": [
        {
          "output_type": "stream",
          "text": [
            "Requirement already satisfied: ortools in /usr/local/lib/python3.6/dist-packages (8.0.8283)\n",
            "Requirement already satisfied: six>=1.10 in /usr/local/lib/python3.6/dist-packages (from ortools) (1.15.0)\n",
            "Requirement already satisfied: protobuf>=3.13.0 in /usr/local/lib/python3.6/dist-packages (from ortools) (3.13.0)\n",
            "Requirement already satisfied: setuptools in /usr/local/lib/python3.6/dist-packages (from protobuf>=3.13.0->ortools) (50.3.0)\n"
          ],
          "name": "stdout"
        }
      ]
    },
    {
      "cell_type": "code",
      "metadata": {
        "id": "vK1MGY21SCpO",
        "outputId": "5ffce7cb-92cd-446e-fc3f-04b5d5a0a1c1",
        "colab": {
          "base_uri": "https://localhost:8080/",
          "height": 204
        }
      },
      "source": [
        "from __future__ import print_function\n",
        "from ortools.linear_solver import pywraplp\n",
        "\n",
        "\n",
        "def main():\n",
        "    # Create the mip solver with the SCIP backend.\n",
        "    solver = pywraplp.Solver.CreateSolver('SCIP')\n",
        "\n",
        "    infinity = solver.infinity()\n",
        "    # x and y are integer non-negative variables.\n",
        "    x = solver.IntVar(0.0, infinity, 'x')\n",
        "    y = solver.IntVar(0.0, infinity, 'y')\n",
        "\n",
        "    print('Number of variables =', solver.NumVariables())\n",
        "\n",
        "    # x + 7 * y <= 17.5.\n",
        "    solver.Add(x + 7 * y <= 17.5)\n",
        "\n",
        "    # x <= 3.5.\n",
        "    solver.Add(x <= 3.5)\n",
        "\n",
        "    print('Number of constraints =', solver.NumConstraints())\n",
        "\n",
        "    # Maximize x + 10 * y.\n",
        "    solver.Maximize(x + 10 * y)\n",
        "\n",
        "    status = solver.Solve()\n",
        "\n",
        "    if status == pywraplp.Solver.OPTIMAL:\n",
        "        print('Solution:')\n",
        "        print('Objective value =', solver.Objective().Value())\n",
        "        print('x =', x.solution_value())\n",
        "        print('y =', y.solution_value())\n",
        "    else:\n",
        "        print('The problem does not have an optimal solution.')\n",
        "\n",
        "    print('\\nAdvanced usage:')\n",
        "    print('Problem solved in %f milliseconds' % solver.wall_time())\n",
        "    print('Problem solved in %d iterations' % solver.iterations())\n",
        "    print('Problem solved in %d branch-and-bound nodes' % solver.nodes())\n",
        "\n",
        "\n",
        "if __name__ == '__main__':\n",
        "    main()"
      ],
      "execution_count": null,
      "outputs": [
        {
          "output_type": "stream",
          "text": [
            "Number of variables = 2\n",
            "Number of constraints = 2\n",
            "Solution:\n",
            "Objective value = 23.0\n",
            "x = 3.0\n",
            "y = 2.0\n",
            "\n",
            "Advanced usage:\n",
            "Problem solved in 6.000000 milliseconds\n",
            "Problem solved in 0 iterations\n",
            "Problem solved in 1 branch-and-bound nodes\n"
          ],
          "name": "stdout"
        }
      ]
    },
    {
      "cell_type": "code",
      "metadata": {
        "id": "HyAHAmoSLMK2",
        "outputId": "0ea01546-1c33-45be-ed2f-b50acfb7d98f",
        "colab": {
          "base_uri": "https://localhost:8080/",
          "height": 119
        }
      },
      "source": [
        "from ortools.linear_solver import pywraplp\n",
        "\n",
        "if __name__ == '__main__':\n",
        "\n",
        "\n",
        "\n",
        "  # Data\n",
        "  costs = [\n",
        "      [90, 80, 75, 70],\n",
        "      [35, 85, 55, 65],\n",
        "      [125, 95, 90, 95],\n",
        "      [45, 110, 95, 115],\n",
        "      [50, 100, 90, 100],\n",
        "  ]\n",
        "  num_workers = len(costs)\n",
        "  num_tasks = len(costs[0])\n",
        "\n",
        "\n",
        "  #----------------------------------------------------------------\n",
        "  # Solver :  Create the mip solver with the CBC backend.\n",
        "  solver = pywraplp.Solver.CreateSolver('CBC')\n",
        "\n",
        "\n",
        "  #----------------------------------------------------------------\n",
        "  # Variables\n",
        "  # x[i, j] is an array of 0-1 variables, which will be 1\n",
        "  # if worker i is assigned to task j.\n",
        "  x = {}\n",
        "  for i in range(num_workers):\n",
        "      for j in range(num_tasks):\n",
        "          x[i, j] = solver.IntVar(0, 1, '')\n",
        "\n",
        "\n",
        "  #----------------------------------------------------------------\n",
        "  # Constraints\n",
        "  # Each worker is assigned to at most 1 task.\n",
        "  for i in range(num_workers):\n",
        "      solver.Add(solver.Sum([x[i, j] for j in range(num_tasks)]) <= 1)\n",
        "\n",
        "  # Each task is assigned to exactly one worker.\n",
        "  for j in range(num_tasks):\n",
        "      solver.Add(solver.Sum([x[i, j] for i in range(num_workers)]) == 1)\n",
        "\n",
        "\n",
        "  #----------------------------------------------------------------\n",
        "  # Objective\n",
        "  objective_terms = []\n",
        "  for i in range(num_workers):\n",
        "      for j in range(num_tasks):\n",
        "          objective_terms.append(costs[i][j] * x[i, j])\n",
        "  solver.Minimize(solver.Sum(objective_terms))\n",
        "\n",
        "\n",
        "  #----------------------------------------------------------------\n",
        "  # Solve\n",
        "  status = solver.Solve()\n",
        "\n",
        "\n",
        "  #----------------------------------------------------------------\n",
        "  # Print solution.\n",
        "  if status == pywraplp.Solver.OPTIMAL or status == pywraplp.Solver.FEASIBLE:\n",
        "      print('Total cost = ', solver.Objective().Value(), '\\n')\n",
        "      for i in range(num_workers):\n",
        "          for j in range(num_tasks):\n",
        "              # Test if x[i,j] is 1 \n",
        "              # (with tolerance for floating point arithmetic).\n",
        "              if x[i, j].solution_value() > 0.5:\n",
        "                  print('Worker %d assigned to task %d.  Cost = %d' %\n",
        "                        (i, j, costs[i][j]))\n"
      ],
      "execution_count": null,
      "outputs": [
        {
          "output_type": "stream",
          "text": [
            "Total cost =  265.0 \n",
            "\n",
            "Worker 0 assigned to task 3.  Cost = 70\n",
            "Worker 1 assigned to task 2.  Cost = 55\n",
            "Worker 2 assigned to task 1.  Cost = 95\n",
            "Worker 3 assigned to task 0.  Cost = 45\n"
          ],
          "name": "stdout"
        }
      ]
    }
  ]
}